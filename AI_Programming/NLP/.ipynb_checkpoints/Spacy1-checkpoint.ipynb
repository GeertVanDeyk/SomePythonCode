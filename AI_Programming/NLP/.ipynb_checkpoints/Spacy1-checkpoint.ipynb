{
 "cells": [
  {
   "cell_type": "code",
   "execution_count": null,
   "id": "b51639e1-9bd2-420d-b7ce-4a84fd402218",
   "metadata": {},
   "outputs": [],
   "source": [
    "!pip install spacy\n",
    "import spacy\n",
    "from spacy import displacy\n",
    "nlp = spacy.load('en_core_web_sm')"
   ]
  },
  {
   "cell_type": "code",
   "execution_count": null,
   "id": "d3d44405-9587-4614-ba25-4737c6aebad8",
   "metadata": {},
   "outputs": [],
   "source": [
    "introduction_text = \"As Gregor Samsa awoke one morning from uneasy dreams he found himself transformed in his bed into a gigantic insect. He was lying on his hard, as it were armor-plated, back and when he lifted his head a little he could see his dome-like brown belly divided into stiff arched segments on top of which the bed quilt could hardly keep in position and was about to slide off completely. His numerous legs, which were pitifully thin compared to the rest of his bulk, waved helplessly before his eyes.\""
   ]
  },
  {
   "cell_type": "code",
   "execution_count": null,
   "id": "f482223b-96de-447a-8841-18929b7d792b",
   "metadata": {},
   "outputs": [],
   "source": [
    "introduction_doc = nlp(introduction_text)"
   ]
  },
  {
   "cell_type": "code",
   "execution_count": null,
   "id": "fbf9b324-81d6-45bc-a7f0-16b89c25e1b6",
   "metadata": {},
   "outputs": [],
   "source": [
    "displacy.render(introduction_doc, style=\"dep\")"
   ]
  },
  {
   "cell_type": "code",
   "execution_count": null,
   "id": "e82e4dcd-740b-4750-88ea-c67e40017d54",
   "metadata": {},
   "outputs": [],
   "source": [
    "sentences = list(introduction_doc.sents)"
   ]
  },
  {
   "cell_type": "code",
   "execution_count": null,
   "id": "cfde5342-a1dd-4680-8763-ab5b580e8a69",
   "metadata": {},
   "outputs": [],
   "source": [
    "print(len(sentences))\n",
    "for sentence in sentences:\n",
    "    print(sentence)\n",
    "    "
   ]
  },
  {
   "cell_type": "code",
   "execution_count": null,
   "id": "6d0ec249-eedc-4f5c-b201-715130a28600",
   "metadata": {},
   "outputs": [],
   "source": [
    "for token in introduction_doc:\n",
    "    print(token.idx, token.text, token.lemma_, token.doc ,token.dep_)"
   ]
  },
  {
   "cell_type": "code",
   "execution_count": null,
   "id": "e1950f56-a518-4c3a-8469-199053929d7c",
   "metadata": {},
   "outputs": [],
   "source": []
  },
  {
   "cell_type": "code",
   "execution_count": null,
   "id": "73fdca4d-7036-40d3-8dc3-22e59d562bc7",
   "metadata": {},
   "outputs": [],
   "source": []
  }
 ],
 "metadata": {
  "kernelspec": {
   "display_name": "Python 3 (ipykernel)",
   "language": "python",
   "name": "python3"
  },
  "language_info": {
   "codemirror_mode": {
    "name": "ipython",
    "version": 3
   },
   "file_extension": ".py",
   "mimetype": "text/x-python",
   "name": "python",
   "nbconvert_exporter": "python",
   "pygments_lexer": "ipython3",
   "version": "3.12.2"
  }
 },
 "nbformat": 4,
 "nbformat_minor": 5
}
